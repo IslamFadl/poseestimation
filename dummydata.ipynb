{
 "cells": [
  {
   "cell_type": "code",
   "execution_count": 64,
   "id": "7c3d40ca",
   "metadata": {},
   "outputs": [],
   "source": [
    "import numpy as np\n",
    "import cv2\n",
    "from math import atan2, pi\n",
    "\n",
    "\n",
    "RESNET_IMPUT_SIZE = 224\n",
    "IMG_SIZE = RESNET_IMPUT_SIZE\n",
    "THICKNESS=5\n",
    "B,G,R = 255,0,0"
   ]
  },
  {
   "cell_type": "code",
   "execution_count": 66,
   "id": "5f747eb7",
   "metadata": {},
   "outputs": [],
   "source": [
    "def twopoints(IMG_SIZE):\n",
    "    # Create two points in 2D coordinates\n",
    "    x1 = np.random.randint(1, high=IMG_SIZE-1, size=None, dtype=int)\n",
    "    y1 = np.random.randint(1, high=IMG_SIZE-1, size=None, dtype=int)\n",
    "    x2 = np.random.randint(1, high=IMG_SIZE-1, size=None, dtype=int)\n",
    "    y2 = np.random.randint(1, high=IMG_SIZE-1, size=None, dtype=int)\n",
    "    return x1,y1,x2,y2\n",
    "\n",
    "\n",
    "def getangle(x1,y1,x2,y2):\n",
    "    # Calculate angle\n",
    "    b = abs(y2 - y1)\n",
    "    a = abs(x2 - x1)\n",
    "    angle = atan2(b,a) * 180 / pi\n",
    "    \n",
    "    \"\"\"\n",
    "    if angle<0:\n",
    "        angle = 180 - angle\n",
    "    else:\n",
    "        pass\n",
    "    \"\"\"\n",
    "    return angle    "
   ]
  },
  {
   "cell_type": "code",
   "execution_count": 67,
   "id": "234af831",
   "metadata": {},
   "outputs": [],
   "source": [
    "for i in range(6):\n",
    "    x1,y1,x2,y2 = twopoints(IMG_SIZE)\n",
    "    # Create a black image\n",
    "    img = np.zeros((IMG_SIZE,IMG_SIZE,3), np.uint8)\n",
    "    # Draw a diagonal blue line with thickness of 5 px\n",
    "    cv2.line(img,(x1,y1),(x2,y2),(B,G,R),THICKNESS);\n",
    "    angle = getangle(x1,y1,x2,y2)\n",
    "    # save image\n",
    "    cv2.imwrite(f'img_{i}_angle_{angle}.png', img)"
   ]
  },
  {
   "cell_type": "code",
   "execution_count": null,
   "id": "d66ea4da",
   "metadata": {},
   "outputs": [],
   "source": []
  }
 ],
 "metadata": {
  "kernelspec": {
   "display_name": "tutorials",
   "language": "python",
   "name": "tutorials"
  },
  "language_info": {
   "codemirror_mode": {
    "name": "ipython",
    "version": 3
   },
   "file_extension": ".py",
   "mimetype": "text/x-python",
   "name": "python",
   "nbconvert_exporter": "python",
   "pygments_lexer": "ipython3",
   "version": "3.10.4"
  }
 },
 "nbformat": 4,
 "nbformat_minor": 5
}
